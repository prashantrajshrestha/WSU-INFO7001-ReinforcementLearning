{
 "cells": [
  {
   "cell_type": "code",
   "execution_count": 22,
   "metadata": {},
   "outputs": [],
   "source": [
    "import pygame\n",
    "import random\n",
    "import math\n",
    "import torch\n",
    "import torch.nn as nn\n",
    "import torch.nn.functional as F\n",
    "import numpy as np\n",
    "import matplotlib.pyplot as plt\n",
    "from itertools import permutations, product"
   ]
  },
  {
   "cell_type": "code",
   "execution_count": 23,
   "metadata": {},
   "outputs": [],
   "source": [
    "WIDTH, HEIGHT = 800, 600\n",
    "FIELD = pygame.Rect(50, 50, WIDTH-100, HEIGHT-100)\n",
    "ROBOT_RADIUS = 20\n",
    "WHEEL_RADIUS = 5\n",
    "TARGET_RADIUS = 10"
   ]
  },
  {
   "cell_type": "code",
   "execution_count": 24,
   "metadata": {},
   "outputs": [],
   "source": [
    "def actionMatrix(action):\n",
    "    control_values = [0.0, 0.0, 0.0]\n",
    "    # Mapping actions to control values\n",
    "    if action == 0:\n",
    "        control_values = [1.0, 0.0, 0.0]  # up\n",
    "    elif action == 1:\n",
    "        control_values = [-1.0, 0.0, 0.0]  # down\n",
    "    elif action == 2:\n",
    "        control_values = [0.0, 1.0, 0.0]  # right\n",
    "    elif action == 3:\n",
    "        control_values = [0.0, -1.0, 0.0]  # left\n",
    "    elif action == 4:\n",
    "        control_values = [1.0, 1.0, 0.0] # up-right\n",
    "    elif action == 5:\n",
    "        control_values = [1.0, -1.0, 0.0] # up-left\n",
    "    elif action == 6:\n",
    "        control_values = [-1.0, 1.0, 0.0] # down-right\n",
    "    elif action == 7:\n",
    "        control_values = [-1.0, -1.0, 0.0] # down-left\n",
    "    else:\n",
    "        control_values = [0.0, 0.0, 0.0]  # error\n",
    "\n",
    "    return control_values"
   ]
  },
  {
   "cell_type": "code",
   "execution_count": 25,
   "metadata": {},
   "outputs": [],
   "source": [
    "def get_state(robot_pose, target_pos, target_vel):\n",
    "    # Determine the relative position of the target with respect to the robot, considering orientation\n",
    "    x_robot, y_robot, theta_robot = robot_pose\n",
    "    x_target, y_target = target_pos\n",
    "\n",
    "    # Calculate the relative position in the robot's local coordinate system\n",
    "    relative_x = (x_target - x_robot) * math.cos(math.radians(theta_robot)) - (y_target - y_robot) * math.sin(math.radians(theta_robot))\n",
    "    relative_y = (x_target - x_robot) * math.sin(math.radians(theta_robot)) + (y_target - y_robot) * math.cos(math.radians(theta_robot))\n",
    "\n",
    "    if relative_y > 0:\n",
    "        if abs(relative_x) < ROBOT_RADIUS:\n",
    "            # Ball in front of the robot\n",
    "            state_position = 0\n",
    "        elif relative_x < 0:\n",
    "            # Ball left in front of the robot\n",
    "            state_position = 1\n",
    "        else:\n",
    "            # Ball right in front of the robot\n",
    "            state_position = 2\n",
    "    else:\n",
    "        if relative_x < 0:\n",
    "            # Ball left behind the robot\n",
    "            state_position = 3\n",
    "        else:\n",
    "            # Ball right behind the robot\n",
    "            state_position = 4\n",
    "\n",
    "    # Discretize the target velocity\n",
    "    target_vel_x, target_vel_y = target_vel\n",
    "\n",
    "    if target_vel_x >= 0.2:\n",
    "        velocity_category = 0\n",
    "    elif -0.2 <= target_vel_x < 0.2:\n",
    "        velocity_category = 1\n",
    "    elif target_vel_x < -0.2:\n",
    "        velocity_category = 2\n",
    "\n",
    "    # Map the combination of position and velocity to an integer state value (0 to 15)\n",
    "    state = state_position * 3 + velocity_category\n",
    "    return state"
   ]
  },
  {
   "cell_type": "code",
   "execution_count": 26,
   "metadata": {},
   "outputs": [],
   "source": [
    "def distance(pose1, pose2):\n",
    "    return math.sqrt((pose1[0] - pose2[0])**2 + (pose1[1] - pose2[1])**2)\n",
    "    \n",
    "def clip(value, min_val = -1, max_val = 1):\n",
    "    return max(min(value, max_val), min_val)\n",
    "\n",
    "def update_pose(robot_pose, omega_0, omega_1, omega_2, step_size=1.0):\n",
    "    [x,y,theta]=robot_pose\n",
    "    omega_0 = clip(omega_0)\n",
    "    omega_1 = clip(omega_1)\n",
    "    omega_2 = clip(omega_2)\n",
    "    \n",
    "    R = 0.5\n",
    "    # d = 1.0\n",
    "    V_x = R * (omega_0 * math.cos(math.radians(60)) +\n",
    "               omega_1 * math.cos(math.radians(180)) +\n",
    "               omega_2 * math.cos(math.radians(300)))\n",
    "    V_y = R * (omega_0 * math.sin(math.radians(60)) +\n",
    "               omega_1 * math.sin(math.radians(180)) +\n",
    "               omega_2 * math.sin(math.radians(300)))\n",
    "    V_x_rotated = (V_x * math.cos(math.radians(theta)) - \n",
    "                   V_y * math.sin(math.radians(theta)))\n",
    "    V_y_rotated = (V_x * math.sin(math.radians(theta)) + \n",
    "                   V_y * math.cos(math.radians(theta)))\n",
    "\n",
    "    omega = omega_0 + omega_1 + omega_2\n",
    "    x_prime = x + V_x_rotated * step_size\n",
    "    y_prime = y + V_y_rotated * step_size\n",
    "\n",
    "    theta_prime = theta + omega * step_size\n",
    "    theta_prime = theta_prime % 360\n",
    "    return x_prime, y_prime, theta_prime\n",
    "\n",
    "def update_target_pose(target_pos, target_vel):\n",
    "    target_x, target_y = target_pos\n",
    "    target_vx, target_vy = target_vel\n",
    "    target_x += target_vx * 0.1\n",
    "    target_y += target_vy * 0.1\n",
    "    target_vel = [target_vx, target_vy]  # assume constant velocity\n",
    "    return [target_x, target_y], target_vel"
   ]
  },
  {
   "cell_type": "code",
   "execution_count": 27,
   "metadata": {},
   "outputs": [],
   "source": [
    "def compute_reward(robot_pose, target_pos):\n",
    "\n",
    "    [x,y,theta]= robot_pose\n",
    "    current_distance_to_target = distance([x, y], target_pos)\n",
    "    \n",
    "    if not FIELD.collidepoint(x, y):\n",
    "        # Penalize the robot for going out of bounds\n",
    "        return -1\n",
    "    elif current_distance_to_target < TARGET_RADIUS:\n",
    "        # Reward the robot for reaching the target\n",
    "        return  10\n",
    "    else:\n",
    "        return -0.01 \n"
   ]
  },
  {
   "cell_type": "code",
   "execution_count": 28,
   "metadata": {},
   "outputs": [],
   "source": [
    "# Testing the agent\n",
    "test_rewards = []\n",
    "class Policy(nn.Module):\n",
    "\tdef __init__(self, input_size, hidden_size, hidden_size2, output_size):\n",
    "\t\tsuper(Policy, self).__init__()\n",
    "\t\tself.linear1 = nn.Linear(input_size, hidden_size)\n",
    "\t\tself.linear2 = nn.Linear(hidden_size, hidden_size2)\n",
    "\t\tself.linear3 = nn.Linear(hidden_size2, output_size)\n",
    "\t\t\n",
    "\tdef forward(self, state):\n",
    "\t\tx = F.relu(self.linear1(state))\n",
    "\t\tx = F.relu(self.linear2(x))\t\n",
    "\t\tx = F.softmax(self.linear3(x), dim=-1)\n",
    "\t\t\n",
    "\t\treturn x\n",
    "input_size = 2\n",
    "hidden_size = 256\n",
    "hidden_size2 = 128\n",
    "actions = [0, 1, 2, 3, 4, 5, 6, 7]\n",
    "output_size = len(actions)\n",
    "for episode in range(50):\n",
    "    score = 0\n",
    "    robot_pose = [random.randint(FIELD.left, FIELD.right), random.randint(FIELD.top, FIELD.bottom), random.randint(0, 359)]\n",
    "    target_pos = [random.randint(FIELD.left, FIELD.right), random.randint(FIELD.top, FIELD.bottom)]\n",
    "    target_vel = [random.uniform(0.2, 0.6), random.uniform(-0.6, 0.6)]\n",
    "    step = 0\n",
    "    while step < 1000:\n",
    "        x, y, theta = robot_pose\n",
    "        state = torch.FloatTensor([x, y])\n",
    "        policy_network = Policy(input_size, hidden_size, hidden_size2, output_size)  # Initialize policy network\n",
    "        policy_network.load_state_dict(torch.load(\"policy.pth\"))\n",
    "        policy_network.eval()  # Set the network to evaluation mode\n",
    "        action_probs = policy_network(state)\n",
    "        action_distribution = torch.distributions.Categorical(action_probs)\n",
    "        action = action_distribution.sample()\n",
    "\n",
    "        # Perform the action in the environment\n",
    "        omega_0, omega_1, omega_2 = actionMatrix(action.item())\n",
    "\n",
    "        robot_pose_prime = update_pose([x, y, theta], omega_0, omega_1, omega_2, 0.1)\n",
    "        target_pos_prime, target_vel_prime = update_target_pose(target_pos, target_vel)\n",
    "        reward = compute_reward(robot_pose_prime, target_pos_prime)\n",
    "        robot_pose = robot_pose_prime\n",
    "        target_pos = target_pos_prime\n",
    "        target_vel = target_vel_prime\n",
    "        score += reward\n",
    "        step += 1\n",
    "    test_rewards.append(score)\n"
   ]
  },
  {
   "cell_type": "code",
   "execution_count": 29,
   "metadata": {},
   "outputs": [
    {
     "name": "stdout",
     "output_type": "stream",
     "text": [
      "Test rewards: [-9.999999999999831, -9.999999999999831, -471.3399999999997, 1761.7700000000073, -9.999999999999831, -9.999999999999831, -229.7799999999999, -9.999999999999831, -9.999999999999831, -447.57999999999583, -9.999999999999831, -649.54, -9.999999999999831, -9.999999999999831, -9.999999999999831, -9.999999999999831, -9.999999999999831, -9.999999999999831, -9.999999999999831, -9.999999999999831, -9.999999999999831, -9.999999999999831, -9.999999999999831, -566.379999999997, -9.999999999999831, -9.999999999999831, -9.999999999999831, -9.999999999999831, -9.999999999999831, -9.999999999999831, -9.999999999999831, -9.999999999999831, -9.999999999999831, -9.999999999999831, -9.999999999999831, -9.999999999999831, -9.999999999999831, -9.999999999999831, -9.999999999999831, -9.999999999999831, -9.999999999999831, -9.999999999999831, -9.999999999999831, -9.999999999999831, -9.999999999999831, -9.999999999999831, -9.999999999999831, -9.999999999999831, -9.999999999999831, -9.999999999999831]\n",
      "Average test reward: -20.85699999999955\n",
      "Standard deviation of test reward: 293.40959176039274\n"
     ]
    }
   ],
   "source": [
    "# Print the results\n",
    "# print(\"Training rewards:\", training_rewards)\n",
    "print(\"Test rewards:\", test_rewards)\n",
    "print(\"Average test reward:\", np.mean(test_rewards))\n",
    "print(\"Standard deviation of test reward:\", np.std(test_rewards))"
   ]
  },
  {
   "cell_type": "code",
   "execution_count": 30,
   "metadata": {},
   "outputs": [
    {
     "data": {
      "image/png": "[encoded data removed]",
      "text/plain": [
       "<Figure size 640x480 with 1 Axes>"
      ]
     },
     "metadata": {},
     "output_type": "display_data"
    }
   ],
   "source": [
    "import matplotlib.pyplot as plt\n",
    "\n",
    "# Create a list of indices\n",
    "indices = list(range(len(test_rewards)))\n",
    "\n",
    "# Create the plot\n",
    "plt.plot(indices, test_rewards)\n",
    "\n",
    "# Add title and labels\n",
    "plt.title('Reward vs Index')\n",
    "plt.xlabel('Index')\n",
    "plt.ylabel('Reward')\n",
    "\n",
    "# Show the plot\n",
    "plt.show()"
   ]
  },
  {
   "cell_type": "code",
   "execution_count": null,
   "metadata": {},
   "outputs": [],
   "source": []
  }
 ],
 "metadata": {
  "kernelspec": {
   "display_name": "envname",
   "language": "python",
   "name": "python3"
  },
  "language_info": {
   "codemirror_mode": {
    "name": "ipython",
    "version": 3
   },
   "file_extension": ".py",
   "mimetype": "text/x-python",
   "name": "python",
   "nbconvert_exporter": "python",
   "pygments_lexer": "ipython3",
   "version": "3.10.13"
  }
 },
 "nbformat": 4,
 "nbformat_minor": 2
}
